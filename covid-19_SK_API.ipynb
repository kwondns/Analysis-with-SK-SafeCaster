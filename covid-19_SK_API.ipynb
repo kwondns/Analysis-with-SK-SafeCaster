{
 "cells": [
  {
   "cell_type": "code",
   "execution_count": null,
   "metadata": {},
   "outputs": [],
   "source": [
    "import requests\n",
    "import pandas as pd\n",
    "import time\n",
    "from urllib import parse\n",
    "\n",
    "LOC_STR = \"서울\"\n",
    "save_PATH = \"seoul\"\n",
    "DATE_STR = \"210623\""
   ]
  },
  {
   "cell_type": "markdown",
   "metadata": {},
   "source": [
    "법정동 ID를 API로 수집"
   ]
  },
  {
   "cell_type": "code",
   "execution_count": null,
   "metadata": {},
   "outputs": [],
   "source": [
    "def get_location_ID(string_Location):\n",
    "    headers = {'appKey': 'API KEY'}\n",
    "    url = f\"https://apis.openapi.sk.com/safecaster/v1/search/location?locale=kr&searchText={string_Location}\"\n",
    "    res = requests.get(url, headers=headers)\n",
    "    return res.text"
   ]
  },
  {
   "cell_type": "code",
   "execution_count": null,
   "metadata": {},
   "outputs": [],
   "source": [
    "ret = get_location_ID(LOC_STR)\n",
    "ret = eval(ret)\n",
    "\n",
    "df = pd.DataFrame()\n",
    "\n",
    "for idx, i in enumerate(ret[\"data\"]):\n",
    "    if \"dong\" in ret[\"data\"][idx]:\n",
    "        df = df.append(ret[\"data\"][idx], ignore_index=True)\n",
    "\n",
    "df = df[df[\"lDongCd\"].str[-5:] != \"00000\"]"
   ]
  },
  {
   "cell_type": "code",
   "execution_count": null,
   "metadata": {},
   "outputs": [],
   "source": [
    "df.to_csv(f\"{save_PATH}_code.csv\", encoding=\"utf-8-sig\")"
   ]
  },
  {
   "cell_type": "markdown",
   "metadata": {},
   "source": [
    "<p> 법정동 ID를 기반으로 실제 COVID-19 안전지수 수집 </p>"
   ]
  },
  {
   "cell_type": "code",
   "execution_count": null,
   "metadata": {},
   "outputs": [],
   "source": [
    "df = pd.read_csv(f\"./{save_PATH}_code.csv\", encoding=\"utf-8-sig\")\n",
    "df = df.drop([\"Unnamed: 0\"], axis=1)\n",
    "df[\"lDongCd\"] = df[\"lDongCd\"].astype(str)"
   ]
  },
  {
   "cell_type": "code",
   "execution_count": null,
   "metadata": {},
   "outputs": [],
   "source": [
    "def get_Covid_Value(target_date, code):\n",
    "    headers = {'appKey': 'API KEY'}\n",
    "    url = f\"https://apis.openapi.sk.com/safecaster/v1/search/safetyindex/ldongcd/overall?filterDate={target_date}&ldongCd={code}\"\n",
    "    print(url)\n",
    "    res = requests.get(url, headers=headers)\n",
    "    return res.text"
   ]
  },
  {
   "cell_type": "code",
   "execution_count": null,
   "metadata": {},
   "outputs": [],
   "source": [
    "delete_list = []\n",
    "contactDensityPercentile_df = pd.DataFrame()\n",
    "\n",
    "for code in df[\"lDongCd\"]:\n",
    "    contactDensityPercentile_dict = {}\n",
    "    time.sleep(0.1)\n",
    "    ret = get_Covid_Value(f\"20{DATE_STR}\", code)\n",
    "    ret = eval(ret)\n",
    "    if ret[\"code\"] == \"0000\":\n",
    "        for i in ret[\"data\"]:\n",
    "            contactDensityPercentile_dict[f\"{i['hh']}\"] = i[\"contactDensityPercentile\"]\n",
    "        contactDensityPercentile_df = contactDensityPercentile_df.append(contactDensityPercentile_dict, ignore_index=True)\n",
    "    else:\n",
    "        delete_list.append(code)"
   ]
  },
  {
   "cell_type": "code",
   "execution_count": null,
   "metadata": {},
   "outputs": [],
   "source": [
    "df = df[~df[\"lDongCd\"].isin(delete_list)]\n",
    "df = df.reset_index()"
   ]
  },
  {
   "cell_type": "code",
   "execution_count": null,
   "metadata": {},
   "outputs": [],
   "source": [
    "res_df = pd.concat([df,contactDensityPercentile_df],axis=1)"
   ]
  },
  {
   "cell_type": "code",
   "execution_count": null,
   "metadata": {},
   "outputs": [],
   "source": [
    "res_df.to_csv(f\"./{save_PATH}_{DATE_STR}_covid.csv\", encoding=\"utf-8-sig\")"
   ]
  },
  {
   "cell_type": "markdown",
   "metadata": {},
   "source": [
    "지도에 시각화를 하기위한 좌표를 T MAP API로 수집"
   ]
  },
  {
   "cell_type": "code",
   "execution_count": null,
   "metadata": {},
   "outputs": [],
   "source": [
    "def get_location(params):\n",
    "    encoded = parse.urlencode(params)\n",
    "    response = requests.get(\"https://apis.openapi.sk.com/tmap/geo/geocoding\", params=encoded)\n",
    "    return response.text"
   ]
  },
  {
   "cell_type": "code",
   "execution_count": null,
   "metadata": {},
   "outputs": [],
   "source": [
    "loc_df = pd.DataFrame()\n",
    "for i in res_df.index:\n",
    "    loc_dict = {}\n",
    "    params={\"version\":\"1\",\n",
    "           \"city_do\":res_df.iloc[i][\"siDo\"],\n",
    "           \"gu_gun\":res_df.iloc[i][\"siGunGu\"],\n",
    "           \"dong\":res_df.iloc[i][\"dong\"],\n",
    "           \"coordType\":\"WGS84GEO\",\n",
    "           \"appKey\":\"API KEY\"}\n",
    "    time.sleep(0.1)\n",
    "    print(res_df.iloc[i][\"dong\"])\n",
    "    ret = get_location(params)\n",
    "    ret = eval(ret)\n",
    "    loc_dict[\"lat\"] = ret[\"coordinateInfo\"][\"lat\"]\n",
    "    loc_dict[\"lon\"] = ret[\"coordinateInfo\"][\"lon\"]\n",
    "\n",
    "    loc_df = loc_df.append(loc_dict, ignore_index=True)\n",
    "    \n"
   ]
  },
  {
   "cell_type": "code",
   "execution_count": null,
   "metadata": {},
   "outputs": [],
   "source": [
    "res_df = pd.concat([res_df,loc_df],axis=1)"
   ]
  },
  {
   "cell_type": "code",
   "execution_count": null,
   "metadata": {},
   "outputs": [],
   "source": [
    "res_df.to_csv(f\"./{save_PATH}_{DATE_STR}_complete.csv\", encoding=\"utf-8-sig\")"
   ]
  },
  {
   "cell_type": "markdown",
   "metadata": {},
   "source": [
    "데이터 시각화"
   ]
  },
  {
   "cell_type": "code",
   "execution_count": null,
   "metadata": {},
   "outputs": [],
   "source": [
    "#!pip install folium\n",
    "#!pip install vincent\n",
    "import folium\n",
    "import vincent\n",
    "import json\n",
    "import numpy as np"
   ]
  },
  {
   "cell_type": "code",
   "execution_count": null,
   "metadata": {},
   "outputs": [],
   "source": [
    "res_df = pd.read_csv(f\"./{save_PATH}_{DATE_STR}_complete.csv\")\n",
    "res_df = res_df.drop([\"Unnamed: 0\", \"index\"], axis = 1)\n",
    "res_df[\"mean\"] = res_df.iloc[:,4:-2].mean(axis=1)"
   ]
  },
  {
   "cell_type": "code",
   "execution_count": null,
   "metadata": {},
   "outputs": [],
   "source": [
    "map = folium.Map(location=[\"37.546517\", \"126.986576\"], zoom_start=11) # 서울시 내의 무작위 좌표\n",
    "\n",
    "for idx in res_df.index:\n",
    "    scatter_points = {\n",
    "    \"x\": range(0,24),\n",
    "    \"y\": res_df.iloc[idx,4:-3],\n",
    "    }\n",
    "    scatter_chart = vincent.Line(scatter_points, iter_idx=\"x\", width=400, height=220)\n",
    "    scatter_chart.legend(title=res_df.iloc[idx,0])\n",
    "    scatter_json = scatter_chart.to_json()\n",
    "    \n",
    "    if res_df['mean'][idx] >= 70.0:\n",
    "        folium.Marker([res_df['lat'][idx], res_df['lon'][idx]],\n",
    "                       popup = folium.Popup(max_width=500).add_child(folium.Vega(scatter_json, width=500, height=250)),\n",
    "                       icon = folium.Icon(color=\"black\", icon=\"fas fa-biohazard\", prefix=\"fa\")).add_to(map)\n",
    "    elif res_df['mean'][idx] >= 50.0:\n",
    "        folium.Marker([res_df['lat'][idx], res_df['lon'][idx]],\n",
    "                       popup = folium.Popup(max_width=500).add_child(folium.Vega(scatter_json, width=500, height=250)),\n",
    "                       icon = folium.Icon(color=\"purple\", icon=\"fas fa-biohazard\", prefix=\"fa\")).add_to(map)\n",
    "    elif res_df['mean'][idx] >= 30.0:\n",
    "        folium.Marker([res_df['lat'][idx], res_df['lon'][idx]],\n",
    "                       popup = folium.Popup(max_width=500).add_child(folium.Vega(scatter_json, width=500, height=250)),\n",
    "                       icon = folium.Icon(color=\"red\", icon=\"fas fa-biohazard\", prefix=\"fa\")).add_to(map)\n",
    "    elif res_df['mean'][idx] >= 10.0:\n",
    "        folium.Marker([res_df['lat'][idx], res_df['lon'][idx]],\n",
    "                       popup = folium.Popup(max_width=500).add_child(folium.Vega(scatter_json, width=500, height=250)),\n",
    "                       icon = folium.Icon(color=\"orange\", icon=\"fas fa-biohazard\", prefix=\"fa\")).add_to(map)\n",
    "    else:\n",
    "        folium.Marker([res_df['lat'][idx], res_df['lon'][idx]],\n",
    "                       popup = folium.Popup(max_width=500).add_child(folium.Vega(scatter_json, width=500, height=250)),\n",
    "                       icon = folium.Icon(color=\"blue\", icon=\"fas fa-biohazard\", prefix=\"fa\")).add_to(map)\n"
   ]
  },
  {
   "cell_type": "code",
   "execution_count": null,
   "metadata": {},
   "outputs": [],
   "source": [
    "map.save(f\"{save_PATH}_{DATE_STR}.html\")"
   ]
  }
 ],
 "metadata": {
  "kernelspec": {
   "display_name": "Python 3",
   "language": "python",
   "name": "python3"
  },
  "language_info": {
   "codemirror_mode": {
    "name": "ipython",
    "version": 3
   },
   "file_extension": ".py",
   "mimetype": "text/x-python",
   "name": "python",
   "nbconvert_exporter": "python",
   "pygments_lexer": "ipython3",
   "version": "3.8.5"
  }
 },
 "nbformat": 4,
 "nbformat_minor": 4
}
